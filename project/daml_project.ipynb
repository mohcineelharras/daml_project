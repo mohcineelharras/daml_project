{
  "nbformat": 4,
  "nbformat_minor": 0,
  "metadata": {
    "colab": {
      "name": "ML_Project.ipynb",
      "provenance": [],
      "authorship_tag": "ABX9TyOwQQj/3RcTstEhu0xoqhuk",
      "include_colab_link": true
    },
    "kernelspec": {
      "name": "python3",
      "display_name": "Python 3"
    },
    "language_info": {
      "name": "python"
    }
  },
  "cells": [
    {
      "cell_type": "markdown",
      "metadata": {
        "id": "view-in-github",
        "colab_type": "text"
      },
      "source": [
        "<a href=\"https://colab.research.google.com/github/mohcineelharras/daml_project/blob/main/project/daml_project.ipynb\" target=\"_parent\"><img src=\"https://colab.research.google.com/assets/colab-badge.svg\" alt=\"Open In Colab\"/></a>"
      ]
    },
    {
      "cell_type": "markdown",
      "metadata": {
        "id": "SuKbzyiQrDSk"
      },
      "source": [
        "# DAML Poject"
      ]
    },
    {
      "cell_type": "markdown",
      "metadata": {
        "id": "1u9-8Z8w-DYV"
      },
      "source": [
        "## Import Libraries"
      ]
    },
    {
      "cell_type": "code",
      "metadata": {
        "id": "MKbQfvfS-F7s"
      },
      "source": [
        "import numpy as np\n",
        "import matplotlib.pyplot as plt\n",
        "from matplotlib.colors import LogNorm\n",
        "from sklearn import mixture\n",
        "import seaborn as sns, numpy as np\n",
        "from sklearn.neighbors import KernelDensity\n",
        "import numpy as np"
      ],
      "execution_count": 25,
      "outputs": []
    },
    {
      "cell_type": "code",
      "metadata": {
        "id": "m_sWLG4T-HLx"
      },
      "source": [
        ""
      ],
      "execution_count": null,
      "outputs": []
    },
    {
      "cell_type": "markdown",
      "metadata": {
        "id": "16uRt4P7DY4x"
      },
      "source": [
        "## Context\n",
        "\n",
        "Les critères suivants seront appréciés :\n",
        "* Compte-rendu : clarté et pertinence des explications, qualité de la présentation (en particulier les équations), analyse et interprétation des résultats ;\n",
        "* Travail fourni : conformité aux objectifs précisés dans le texte, quantité\n",
        "et qualité des résultats et conclusions ;\n",
        "* Initiative et originalité.\n",
        "\n",
        "\n",
        "**Présenter (avec synthèse) l’algorithme k-means et les algorithmes EM et CEM appliqués au modèle de mélange gaussien.**"
      ]
    },
    {
      "cell_type": "code",
      "metadata": {
        "id": "gD3n4vkeC-mO"
      },
      "source": [
        ""
      ],
      "execution_count": null,
      "outputs": []
    },
    {
      "cell_type": "markdown",
      "metadata": {
        "id": "I63ioYxzDDl8"
      },
      "source": [
        "## Simulation\n",
        "\n",
        "1. Simulation d’un modèle de mélange :\n",
        "\n",
        "* Écrire une fonction qui simule n points du plan suivant un modèle\n",
        "de mélange de deux lois gaussiennes définies par leurs proportions,\n",
        "centres, volumes, formes et orientations.\n",
        "* Donner quelques exemples de simulation et donner les représentations\n",
        "graphiques correspondantes."
      ]
    },
    {
      "cell_type": "code",
      "metadata": {
        "id": "klFVoOFj9879"
      },
      "source": [
        "def gmm2(n):\n",
        "  return n\n",
        "\n",
        "\n"
      ],
      "execution_count": 141,
      "outputs": []
    },
    {
      "cell_type": "code",
      "metadata": {
        "id": "tJsIhcTHccWp",
        "outputId": "dbe3068a-01a8-48da-893a-6ee0ef31bca4",
        "colab": {
          "base_uri": "https://localhost:8080/",
          "height": 296
        }
      },
      "source": [
        "N=1000\n",
        "mu1, sigma1,pi1 = 0, 0.1, 0.8\n",
        "mu2, sigma2,pi2 = 0.5, 0.2, 0.2\n",
        "x1 = np.random.normal(mu1, sigma1, int(n*pi1))\n",
        "x2 = np.random.normal(mu2,  sigma2, int(n*pi2))\n",
        "# Creating a series of data of in range of 1-50.\n",
        "x = np.linspace(min(x1.min(),x2.min()),max(x1.max(),x2.max()),200)\n",
        " \n",
        "#Creating a Function.\n",
        "def normal_dist(x , mean , sd):\n",
        "    prob_density = (1/(2*np.pi*sd**2)) * np.exp(-0.5*((x-mean)/sd)**2)\n",
        "    return prob_density\n",
        " \n",
        "#Apply function to the data.\n",
        "pdf1 = normal_dist(x,mu1,sigma1)\n",
        "pdf2 = normal_dist(x,mu2,sigma2)\n",
        "\n",
        "pdf3= pi1*pdf1 + pi2*pdf2\n",
        "#Plotting the Results\n",
        "plt.plot(x,pdf1/2 , color = 'red')\n",
        "plt.plot(x,pdf2/2 , color = 'blue')\n",
        "plt.plot(x,pdf3 , color = 'green')\n",
        "plt.xlabel('Data points')\n",
        "plt.ylabel('Probability Density')"
      ],
      "execution_count": 163,
      "outputs": [
        {
          "output_type": "execute_result",
          "data": {
            "text/plain": [
              "Text(0, 0.5, 'Probability Density')"
            ]
          },
          "metadata": {
            "tags": []
          },
          "execution_count": 163
        },
        {
          "output_type": "display_data",
          "data": {
            "image/png": "[encoded data removed]",
            "text/plain": [
              "<Figure size 432x288 with 1 Axes>"
            ]
          },
          "metadata": {
            "tags": [],
            "needs_background": "light"
          }
        }
      ]
    },
    {
      "cell_type": "code",
      "metadata": {
        "id": "SUOptJHBc5pY"
      },
      "source": [
        ""
      ],
      "execution_count": 163,
      "outputs": []
    },
    {
      "cell_type": "code",
      "metadata": {
        "id": "r3Gm2Oa4QgOS"
      },
      "source": [
        ""
      ],
      "execution_count": 141,
      "outputs": []
    },
    {
      "cell_type": "code",
      "metadata": {
        "id": "vOb_Kybk-oaG",
        "outputId": "da066aff-c9bf-45c1-c84f-dd139fd4b7e5",
        "colab": {
          "base_uri": "https://localhost:8080/",
          "height": 389
        }
      },
      "source": [
        "n=1000\n",
        "mu1, sigma1,pi1 = 0, 0.1, 0.8\n",
        "mu2, sigma2,pi2 = 0.5, 0.2, 0.2\n",
        "x1 = np.random.normal(mu1, sigma1, int(n*pi1))\n",
        "x2 = np.random.normal(mu2,  sigma2, int(n*pi2))\n",
        "\n",
        "#x3= np.array(list(x1)+list(x2))\n",
        "\n",
        "\n",
        "ax1 = sns.distplot(x1,hist=False)\n",
        "ax2 = sns.distplot(x2,hist=False)\n",
        "#ax3 = sns.distplot(x3,hist=False)"
      ],
      "execution_count": 142,
      "outputs": [
        {
          "output_type": "stream",
          "text": [
            "/usr/local/lib/python3.7/dist-packages/seaborn/distributions.py:2557: FutureWarning: `distplot` is a deprecated function and will be removed in a future version. Please adapt your code to use either `displot` (a figure-level function with similar flexibility) or `kdeplot` (an axes-level function for kernel density plots).\n",
            "  warnings.warn(msg, FutureWarning)\n",
            "/usr/local/lib/python3.7/dist-packages/seaborn/distributions.py:2557: FutureWarning: `distplot` is a deprecated function and will be removed in a future version. Please adapt your code to use either `displot` (a figure-level function with similar flexibility) or `kdeplot` (an axes-level function for kernel density plots).\n",
            "  warnings.warn(msg, FutureWarning)\n",
            "/usr/local/lib/python3.7/dist-packages/seaborn/distributions.py:2557: FutureWarning: `distplot` is a deprecated function and will be removed in a future version. Please adapt your code to use either `displot` (a figure-level function with similar flexibility) or `kdeplot` (an axes-level function for kernel density plots).\n",
            "  warnings.warn(msg, FutureWarning)\n"
          ],
          "name": "stderr"
        },
        {
          "output_type": "display_data",
          "data": {
            "image/png": "[encoded data removed]",
            "text/plain": [
              "<Figure size 432x288 with 1 Axes>"
            ]
          },
          "metadata": {
            "tags": [],
            "needs_background": "light"
          }
        }
      ]
    },
    {
      "cell_type": "code",
      "metadata": {
        "id": "lfHfyjpo-gG9"
      },
      "source": [
        ""
      ],
      "execution_count": 143,
      "outputs": []
    },
    {
      "cell_type": "code",
      "metadata": {
        "id": "6wdOjZ6AZo5T"
      },
      "source": [
        ""
      ],
      "execution_count": 143,
      "outputs": []
    },
    {
      "cell_type": "code",
      "metadata": {
        "id": "zyelRw9mZo77"
      },
      "source": [
        ""
      ],
      "execution_count": 102,
      "outputs": []
    },
    {
      "cell_type": "code",
      "metadata": {
        "id": "MmigyMtoC-qs"
      },
      "source": [
        ""
      ],
      "execution_count": 163,
      "outputs": []
    },
    {
      "cell_type": "code",
      "metadata": {
        "id": "b5rfUDOw8Rtj"
      },
      "source": [
        ""
      ],
      "execution_count": 163,
      "outputs": []
    },
    {
      "cell_type": "code",
      "metadata": {
        "id": "Fsv1EdNJ7_1D",
        "outputId": "5b3ce6bf-622b-4509-e282-c0ad99426c92",
        "colab": {
          "base_uri": "https://localhost:8080/"
        }
      },
      "source": [
        "import numpy as np\n",
        "from sklearn.mixture import GaussianMixture\n",
        "X = np.array([[1, 2], [1, 4], [1, 0], [10, 2], [10, 4], [10, 0]])\n",
        "gm = GaussianMixture(n_components=2, random_state=0).fit(X)\n",
        "gm.means_\n",
        "\n",
        "\n",
        "gm.predict([[0, 0], [12, 3]])\n"
      ],
      "execution_count": 2,
      "outputs": [
        {
          "output_type": "execute_result",
          "data": {
            "text/plain": [
              "array([1, 0])"
            ]
          },
          "metadata": {
            "tags": []
          },
          "execution_count": 2
        }
      ]
    },
    {
      "cell_type": "code",
      "metadata": {
        "id": "Xqr3Z29W8DsR"
      },
      "source": [
        ""
      ],
      "execution_count": null,
      "outputs": []
    },
    {
      "cell_type": "markdown",
      "metadata": {
        "id": "BN96H4xDp0oH"
      },
      "source": [
        "## Conditional Expectation Maximization (CEM)\n",
        "\n",
        "* Programmer l’algorithme CEM pour les modèles parcimonieux [π,λI],\n",
        "[πk, λI], [π, λkI] et [πk, λkI]."
      ]
    },
    {
      "cell_type": "code",
      "metadata": {
        "id": "CVK04xBxC-sn"
      },
      "source": [
        ""
      ],
      "execution_count": null,
      "outputs": []
    },
    {
      "cell_type": "code",
      "metadata": {
        "id": "2GPPqBUdC-uw"
      },
      "source": [
        ""
      ],
      "execution_count": null,
      "outputs": []
    },
    {
      "cell_type": "markdown",
      "metadata": {
        "id": "v2RBLwSqEPXY"
      },
      "source": [
        "## Comparaison de CEM avec K-means\n",
        "\n",
        "**Comparer votre algorithme et l’algorithme des kmeans sur des jeux de données simulées et réelles.**\n"
      ]
    },
    {
      "cell_type": "markdown",
      "metadata": {
        "id": "SGHWpNV-FG-1"
      },
      "source": [
        "Pour les données réelles, vous pouvez choisir (en motivant ce choix) une application et un jeu de données parmi ceux proposés sur le site web :\n",
        "      http://archive.ics.uci.edu/ml/datasets.php\n",
        "\n",
        "* Le jeu de données choisi est **Online Shoppers Purchasing Intention Dataset Data Set**"
      ]
    },
    {
      "cell_type": "code",
      "metadata": {
        "id": "0KsGdk7SHHJl"
      },
      "source": [
        "import pandas as pd\n",
        "import io\n",
        "import requests\n",
        "\n",
        "url='http://archive.ics.uci.edu/ml/machine-learning-databases/00468/online_shoppers_intention.csv'\n",
        "\n",
        "s=requests.get(url).content\n",
        "df=pd.read_csv(io.StringIO(s.decode('utf-8')))\n",
        "\n"
      ],
      "execution_count": null,
      "outputs": []
    },
    {
      "cell_type": "code",
      "metadata": {
        "colab": {
          "base_uri": "https://localhost:8080/"
        },
        "id": "FccToj_tIBYX",
        "outputId": "419b9851-b85a-4fa2-c4bd-1c5d9a093a52"
      },
      "source": [
        "df.columns"
      ],
      "execution_count": null,
      "outputs": [
        {
          "output_type": "execute_result",
          "data": {
            "text/plain": [
              "Index(['Administrative', 'Administrative_Duration', 'Informational',\n",
              "       'Informational_Duration', 'ProductRelated', 'ProductRelated_Duration',\n",
              "       'BounceRates', 'ExitRates', 'PageValues', 'SpecialDay', 'Month',\n",
              "       'OperatingSystems', 'Browser', 'Region', 'TrafficType', 'VisitorType',\n",
              "       'Weekend', 'Revenue'],\n",
              "      dtype='object')"
            ]
          },
          "metadata": {
            "tags": []
          },
          "execution_count": 13
        }
      ]
    },
    {
      "cell_type": "markdown",
      "metadata": {
        "id": "ur3bSOwsG8E2"
      },
      "source": [
        "* Pour les données simulées, on comparera tout d’abord les deux algorithmes lorsque les classes sont très séparées (err ≈ 0.05 c.à.d. chevauchement des classes de 5%); pour cela, on étudiera des situations correspondant à des proportions égales, différentes ou très différentes et des situations correspondant à des volumes égaux, différents ou très différents. \n",
        "* On fera les mêmes comparaisons lorsque les classes sont moyennement séparées (err ≈ 0.15) et très séparées (err ≈ 0.30). "
      ]
    },
    {
      "cell_type": "code",
      "metadata": {
        "id": "CpJoKDlQGUZ-"
      },
      "source": [
        ""
      ],
      "execution_count": null,
      "outputs": []
    },
    {
      "cell_type": "markdown",
      "metadata": {
        "id": "4gYVP1ylG-Nt"
      },
      "source": [
        "### err = 0.05 chevauchement des classes de 5%"
      ]
    },
    {
      "cell_type": "markdown",
      "metadata": {
        "id": "XtYO3bGkIiBN"
      },
      "source": [
        "#### Proportions égales"
      ]
    },
    {
      "cell_type": "code",
      "metadata": {
        "id": "N3OchNZWITQE"
      },
      "source": [
        ""
      ],
      "execution_count": null,
      "outputs": []
    },
    {
      "cell_type": "markdown",
      "metadata": {
        "id": "NMQxRs3NImu7"
      },
      "source": [
        "#### Proportions différentes"
      ]
    },
    {
      "cell_type": "code",
      "metadata": {
        "id": "F449zUrdIvnm"
      },
      "source": [
        ""
      ],
      "execution_count": null,
      "outputs": []
    },
    {
      "cell_type": "markdown",
      "metadata": {
        "id": "YXnnxp9yInQU"
      },
      "source": [
        "#### Proportions très différentes"
      ]
    },
    {
      "cell_type": "code",
      "metadata": {
        "id": "njY0_QfkIwIO"
      },
      "source": [
        ""
      ],
      "execution_count": null,
      "outputs": []
    },
    {
      "cell_type": "markdown",
      "metadata": {
        "id": "ZElIz7F-ISgq"
      },
      "source": [
        "### err = 0.15 chevauchement des classes de 15%"
      ]
    },
    {
      "cell_type": "code",
      "metadata": {
        "id": "QTR64TicIT6T"
      },
      "source": [
        ""
      ],
      "execution_count": null,
      "outputs": []
    },
    {
      "cell_type": "markdown",
      "metadata": {
        "id": "_JJK6X1kISuA"
      },
      "source": [
        "### err = 0.3 chevauchement des classes de 30%"
      ]
    },
    {
      "cell_type": "code",
      "metadata": {
        "id": "8FWPEtzyGU8N"
      },
      "source": [
        ""
      ],
      "execution_count": null,
      "outputs": []
    },
    {
      "cell_type": "code",
      "metadata": {
        "id": "18AIn270C-wr"
      },
      "source": [
        ""
      ],
      "execution_count": null,
      "outputs": []
    },
    {
      "cell_type": "markdown",
      "metadata": {
        "id": "k0zDbE1wJClE"
      },
      "source": [
        "## Apprentissage Supervisé (classement ou classification)\n",
        "* Comment peut-on utiliser les modèles de mélange pour faire de l’apprentissage supervisé (classement)? Illustrer votre réponse par une application de votre choix. \n",
        "\n",
        "* Proposer ainsi une autre méthode d’apprentissage supervisé, la Présenter (avec synthèse) et la comparer avec les modèles de mélange."
      ]
    },
    {
      "cell_type": "code",
      "metadata": {
        "id": "s2RMMhqqC-yt"
      },
      "source": [
        ""
      ],
      "execution_count": null,
      "outputs": []
    },
    {
      "cell_type": "markdown",
      "metadata": {
        "id": "E6foFJdeDIah"
      },
      "source": [
        "## Draft"
      ]
    },
    {
      "cell_type": "markdown",
      "metadata": {
        "id": "7wzib0keO6yJ"
      },
      "source": [
        "### Import dataset\n",
        "\n",
        "\n"
      ]
    },
    {
      "cell_type": "code",
      "metadata": {
        "id": "gFo_0j6AQqra"
      },
      "source": [
        "from sklearn import datasets\n",
        "iris = datasets.load_iris()\n",
        "X = iris.data\n",
        "y = iris.target"
      ],
      "execution_count": null,
      "outputs": []
    },
    {
      "cell_type": "code",
      "metadata": {
        "id": "_sjtoGtupkTV"
      },
      "source": [
        ""
      ],
      "execution_count": null,
      "outputs": []
    },
    {
      "cell_type": "markdown",
      "metadata": {
        "id": "YHyJ2l6Wq9jt"
      },
      "source": [
        "### Gaussian Mixture Model"
      ]
    },
    {
      "cell_type": "code",
      "metadata": {
        "id": "T4Oi16zE3G5S"
      },
      "source": [
        ""
      ],
      "execution_count": null,
      "outputs": []
    },
    {
      "cell_type": "markdown",
      "metadata": {
        "id": "flgdDIGtpl6z"
      },
      "source": [
        "### Kmean"
      ]
    },
    {
      "cell_type": "code",
      "metadata": {
        "id": "CRiQzGumP0D9",
        "colab": {
          "base_uri": "https://localhost:8080/"
        },
        "outputId": "7e41bac4-d72b-451f-8c47-e032adf57cd5"
      },
      "source": [
        "from sklearn.cluster import KMeans\n",
        "import numpy as np\n",
        "X = np.array([[1, 2], [1, 4], [1, 0],\n",
        "              [10, 2], [10, 4], [10, 0]])\n",
        "kmeans = KMeans(n_clusters=2, random_state=0).fit(X)\n",
        "kmeans.labels_\n",
        "\n",
        "kmeans.predict([[0, 0], [12, 3]])\n",
        "\n",
        "kmeans.cluster_centers_\n"
      ],
      "execution_count": null,
      "outputs": [
        {
          "output_type": "execute_result",
          "data": {
            "text/plain": [
              "array([[10.,  2.],\n",
              "       [ 1.,  2.]])"
            ]
          },
          "metadata": {
            "tags": []
          },
          "execution_count": 1
        }
      ]
    },
    {
      "cell_type": "code",
      "metadata": {
        "id": "jhub-jeHpoZj"
      },
      "source": [
        ""
      ],
      "execution_count": null,
      "outputs": []
    },
    {
      "cell_type": "code",
      "metadata": {
        "id": "rWa5vHc4pojo"
      },
      "source": [
        ""
      ],
      "execution_count": null,
      "outputs": []
    },
    {
      "cell_type": "markdown",
      "metadata": {
        "id": "i46ayC2wprRu"
      },
      "source": [
        "### Expectation-Maximization (EM)"
      ]
    },
    {
      "cell_type": "code",
      "metadata": {
        "id": "T4ktTiHTpopG"
      },
      "source": [
        ""
      ],
      "execution_count": null,
      "outputs": []
    },
    {
      "cell_type": "code",
      "metadata": {
        "id": "nX89xsv3p0fL"
      },
      "source": [
        ""
      ],
      "execution_count": null,
      "outputs": []
    },
    {
      "cell_type": "code",
      "metadata": {
        "id": "NIB6doN2p0hJ"
      },
      "source": [
        ""
      ],
      "execution_count": null,
      "outputs": []
    },
    {
      "cell_type": "code",
      "metadata": {
        "id": "HHFop0Xqp1lv"
      },
      "source": [
        ""
      ],
      "execution_count": null,
      "outputs": []
    }
  ]
}